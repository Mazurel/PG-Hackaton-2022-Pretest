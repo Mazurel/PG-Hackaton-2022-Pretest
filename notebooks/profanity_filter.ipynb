{
 "cells": [
  {
   "cell_type": "code",
   "execution_count": 1,
   "metadata": {
    "pycharm": {
     "is_executing": true
    }
   },
   "outputs": [],
   "source": [
    "import numpy as np\n",
    "import pandas as pd\n",
    "import io"
   ]
  },
  {
   "cell_type": "code",
   "execution_count": 8,
   "metadata": {},
   "outputs": [],
   "source": [
    "f = io.open(\"wulgaryzmy.txt\", mode=\"r\", encoding=\"utf-8\")\n",
    "data = f.read()\n",
    "data = data.split('\\n')"
   ]
  },
  {
   "cell_type": "code",
   "execution_count": 9,
   "metadata": {},
   "outputs": [],
   "source": [
    "# Strips whitespaces from data\n",
    "#data = [x.strip(' ') for x in data]"
   ]
  },
  {
   "cell_type": "code",
   "execution_count": 10,
   "metadata": {},
   "outputs": [
    {
     "data": {
      "text/plain": [
       "['gówno',\n",
       " 'afa',\n",
       " 'bladź',\n",
       " 'blołdżob',\n",
       " 'brandzlować',\n",
       " 'brandzlowanie',\n",
       " 'burdelchata',\n",
       " 'burdelówa',\n",
       " 'bzykać',\n",
       " 'bzykanko']"
      ]
     },
     "execution_count": 10,
     "metadata": {},
     "output_type": "execute_result"
    }
   ],
   "source": [
    "data[:10]"
   ]
  },
  {
   "cell_type": "code",
   "execution_count": 51,
   "metadata": {},
   "outputs": [],
   "source": [
    "# Create hash table with single letters as hashes\n",
    "profanity_hash = {}\n",
    "for word in data[:-1]:\n",
    "    key = word[0]\n",
    "    if key in profanity_hash.keys():\n",
    "        profanity_hash[key].append(word)\n",
    "    else:\n",
    "        profanity_hash[key]=[word]"
   ]
  },
  {
   "cell_type": "code",
   "execution_count": 56,
   "metadata": {},
   "outputs": [],
   "source": [
    "def censor(sentence = \"\"):\n",
    "    new_sentence = \"\"\n",
    "    \n",
    "    for word in sentence.split():\n",
    "        if word[0] in profanity_hash.keys():\n",
    "            if word in profanity_hash[word[0]]:\n",
    "                new_sentence += '*'*len(word) + ' '\n",
    "            else:\n",
    "                new_sentence += word + ' '\n",
    "        else:\n",
    "            new_sentence += word + ' '    \n",
    "            \n",
    "    return new_sentence[:-1] # [:-1] deletes space at the end"
   ]
  },
  {
   "cell_type": "code",
   "execution_count": 57,
   "metadata": {},
   "outputs": [
    {
     "data": {
      "text/plain": [
       "'Ja ******** co za **** debil i to pisał a a a.'"
      ]
     },
     "execution_count": 57,
     "metadata": {},
     "output_type": "execute_result"
    }
   ],
   "source": [
    "censor(\"Ja pierdolę co za chuj debil i to pisał a a a.\")"
   ]
  },
  {
   "cell_type": "code",
   "execution_count": null,
   "metadata": {},
   "outputs": [],
   "source": []
  }
 ],
 "metadata": {
  "kernelspec": {
   "display_name": "Python 3 (ipykernel)",
   "language": "python",
   "name": "python3"
  },
  "language_info": {
   "codemirror_mode": {
    "name": "ipython",
    "version": 3
   },
   "file_extension": ".py",
   "mimetype": "text/x-python",
   "name": "python",
   "nbconvert_exporter": "python",
   "pygments_lexer": "ipython3",
   "version": "3.10.8"
  }
 },
 "nbformat": 4,
 "nbformat_minor": 1
}
